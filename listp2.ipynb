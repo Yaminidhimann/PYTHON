{
  "nbformat": 4,
  "nbformat_minor": 0,
  "metadata": {
    "colab": {
      "provenance": [],
      "authorship_tag": "ABX9TyPZexhEtncI+mgTRBYMXU3R",
      "include_colab_link": true
    },
    "kernelspec": {
      "name": "python3",
      "display_name": "Python 3"
    },
    "language_info": {
      "name": "python"
    }
  },
  "cells": [
    {
      "cell_type": "markdown",
      "metadata": {
        "id": "view-in-github",
        "colab_type": "text"
      },
      "source": [
        "<a href=\"https://colab.research.google.com/github/Yaminidhimann/Yaminidhimann/blob/main/listp2.ipynb\" target=\"_parent\"><img src=\"https://colab.research.google.com/assets/colab-badge.svg\" alt=\"Open In Colab\"/></a>"
      ]
    },
    {
      "cell_type": "code",
      "execution_count": 4,
      "metadata": {
        "colab": {
          "base_uri": "https://localhost:8080/"
        },
        "id": "5KbX14U1m2xW",
        "outputId": "e0801a21-4076-40e4-8d73-65998adae2aa"
      },
      "outputs": [
        {
          "output_type": "execute_result",
          "data": {
            "text/plain": [
              "[0, 1, 2, 3, 4, 5, 6, 7, 8, 9, 10, 11, 12, 13, 14, 15, 16, 17, 18, 19]"
            ]
          },
          "metadata": {},
          "execution_count": 4
        }
      ],
      "source": [
        "str_1=\"Welcome to python\"\n",
        "list_1=[i for i in str_1]          #TO PRINT THE ELEMENTS OF STRING IN THE LIst."
      ]
    },
    {
      "cell_type": "code",
      "source": [
        "list_2=[i for i in range(20)]\n",
        "list_2"
      ],
      "metadata": {
        "colab": {
          "base_uri": "https://localhost:8080/"
        },
        "id": "40ZCNh4vqg1Z",
        "outputId": "3a584aa8-bb1f-4191-b944-7c4c24a8e623"
      },
      "execution_count": 6,
      "outputs": [
        {
          "output_type": "execute_result",
          "data": {
            "text/plain": [
              "[0, 1, 2, 3, 4, 5, 6, 7, 8, 9, 10, 11, 12, 13, 14, 15, 16, 17, 18, 19]"
            ]
          },
          "metadata": {},
          "execution_count": 6
        }
      ]
    },
    {
      "cell_type": "code",
      "source": [
        "list_3=[i for i in range(20) if i%2==0]\n",
        "list_3"
      ],
      "metadata": {
        "colab": {
          "base_uri": "https://localhost:8080/"
        },
        "id": "NjBdP9LKqvVD",
        "outputId": "537898ba-af20-4ecd-cd1f-7ebe3f9359a2"
      },
      "execution_count": 7,
      "outputs": [
        {
          "output_type": "execute_result",
          "data": {
            "text/plain": [
              "[0, 2, 4, 6, 8, 10, 12, 14, 16, 18]"
            ]
          },
          "metadata": {},
          "execution_count": 7
        }
      ]
    },
    {
      "cell_type": "code",
      "source": [
        "#WAPTO CREATE A lIST WHICH TAKES THE NO FROM 1 TO 100 AND DISPLACE THAT NO. AS EVEN OR ODD.\n",
        "list_1=[i for i in range(100) if i%2==0 ]\n",
        "print(\"list of even numbers in given range /n\",list_1)\n",
        "list_2=[i for i in range(100) if i%2!=0]\n",
        "print(\"list of odd numbers in given range/n\",list_2)"
      ],
      "metadata": {
        "colab": {
          "base_uri": "https://localhost:8080/"
        },
        "id": "pHCiGpR6rMYm",
        "outputId": "128440f1-15af-42d5-a898-0e5d58821815"
      },
      "execution_count": 11,
      "outputs": [
        {
          "output_type": "stream",
          "name": "stdout",
          "text": [
            "list of even numbers in given range /n [0, 2, 4, 6, 8, 10, 12, 14, 16, 18, 20, 22, 24, 26, 28, 30, 32, 34, 36, 38, 40, 42, 44, 46, 48, 50, 52, 54, 56, 58, 60, 62, 64, 66, 68, 70, 72, 74, 76, 78, 80, 82, 84, 86, 88, 90, 92, 94, 96, 98]\n",
            "list of odd numbers in given range/n [1, 3, 5, 7, 9, 11, 13, 15, 17, 19, 21, 23, 25, 27, 29, 31, 33, 35, 37, 39, 41, 43, 45, 47, 49, 51, 53, 55, 57, 59, 61, 63, 65, 67, 69, 71, 73, 75, 77, 79, 81, 83, 85, 87, 89, 91, 93, 95, 97, 99]\n"
          ]
        }
      ]
    },
    {
      "cell_type": "code",
      "source": [
        "str_1=\"hello\"\n",
        "print(id(str_1))              #prints the memory addresss\n",
        "str_2=\"world\"\n",
        "print(id(str_2))\n",
        "str_1=str_1+str_2\n",
        "print(str_1)\n",
        "print(id(str_1))"
      ],
      "metadata": {
        "colab": {
          "base_uri": "https://localhost:8080/"
        },
        "id": "Jr8TSZD6t_1S",
        "outputId": "0b64de76-317a-4197-9697-c7785fd57585"
      },
      "execution_count": 18,
      "outputs": [
        {
          "output_type": "stream",
          "name": "stdout",
          "text": [
            "132696510359664\n",
            "132695455972272\n",
            "helloworld\n",
            "132695456223216\n"
          ]
        }
      ]
    },
    {
      "cell_type": "code",
      "source": [
        "a={1,2,3,4,5,6}\n",
        "for i in enumerate(a):                 #enumerate prints the tuple of index and element pairs\n",
        "  print(i)\n",
        "\n",
        "  '''\n",
        "b={sapid : 500124307\n",
        "   deptt : \"SOCS\"\n",
        "   University :\"UPES\"}\n",
        "'''"
      ],
      "metadata": {
        "colab": {
          "base_uri": "https://localhost:8080/"
        },
        "id": "qxpMkCLs0wTs",
        "outputId": "73d92b04-7485-4db1-e30b-11f40b1d0028"
      },
      "execution_count": 19,
      "outputs": [
        {
          "output_type": "stream",
          "name": "stdout",
          "text": [
            "(0, 1)\n",
            "(1, 2)\n",
            "(2, 3)\n",
            "(3, 4)\n",
            "(4, 5)\n",
            "(5, 6)\n"
          ]
        }
      ]
    },
    {
      "cell_type": "code",
      "source": [
        "a=[1,2,3,4,'yamini']                   #accessing the value in list\n",
        "\n",
        "print(a[2])"
      ],
      "metadata": {
        "colab": {
          "base_uri": "https://localhost:8080/"
        },
        "id": "EJHWb2nv29C7",
        "outputId": "e5462eaa-65c4-4728-e096-2e3f4a0558e4"
      },
      "execution_count": 31,
      "outputs": [
        {
          "output_type": "stream",
          "name": "stdout",
          "text": [
            "[3, 4, 'yamini']\n"
          ]
        }
      ]
    },
    {
      "cell_type": "code",
      "source": [
        "#WAP TO PRINT THE LARGEST O. FROM THE LIST.\n",
        "num=int(input(\"enter the range\"))\n",
        "list_1=[i for i in range(num)]\n",
        "print(\"largest element is\",max(list_1))"
      ],
      "metadata": {
        "colab": {
          "base_uri": "https://localhost:8080/"
        },
        "id": "kgzKNsQ76jUm",
        "outputId": "6dca1a5b-98dd-47ac-baa1-c67c1d8241f2"
      },
      "execution_count": 38,
      "outputs": [
        {
          "output_type": "stream",
          "name": "stdout",
          "text": [
            "enter the range20\n",
            "largest element is 19\n"
          ]
        }
      ]
    },
    {
      "cell_type": "code",
      "source": [
        "my_list = [\"a\", \"1\", \"b\", \"2\", \"3\", \"4\", \"c\", \"d\"]\n",
        "result = [val for val in my_list if val.isdigit()]\n",
        "print(result)\n",
        "result2 = [val for val in my_list if val.isalpha()]\n",
        "print(result2)"
      ],
      "metadata": {
        "colab": {
          "base_uri": "https://localhost:8080/"
        },
        "id": "J06B3Fv64QJL",
        "outputId": "fc542bb5-f2d1-487b-b5fb-5a578137c779"
      },
      "execution_count": 24,
      "outputs": [
        {
          "output_type": "stream",
          "name": "stdout",
          "text": [
            "['1', '2', '3', '4']\n",
            "['a', 'b', 'c', 'd']\n"
          ]
        }
      ]
    }
  ]
}