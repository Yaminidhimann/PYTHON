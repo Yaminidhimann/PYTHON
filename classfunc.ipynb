{
  "nbformat": 4,
  "nbformat_minor": 0,
  "metadata": {
    "colab": {
      "provenance": [],
      "authorship_tag": "ABX9TyNAXjNzsZNCnPMKEfZSfQ2z",
      "include_colab_link": true
    },
    "kernelspec": {
      "name": "python3",
      "display_name": "Python 3"
    },
    "language_info": {
      "name": "python"
    }
  },
  "cells": [
    {
      "cell_type": "markdown",
      "metadata": {
        "id": "view-in-github",
        "colab_type": "text"
      },
      "source": [
        "<a href=\"https://colab.research.google.com/github/Yaminidhimann/Yaminidhimann/blob/main/classfunc.ipynb\" target=\"_parent\"><img src=\"https://colab.research.google.com/assets/colab-badge.svg\" alt=\"Open In Colab\"/></a>"
      ]
    },
    {
      "cell_type": "code",
      "execution_count": 2,
      "metadata": {
        "colab": {
          "base_uri": "https://localhost:8080/"
        },
        "id": "BVGjO70477b4",
        "outputId": "ff4f5e49-864d-44ca-943e-3c89cc2c5057"
      },
      "outputs": [
        {
          "output_type": "stream",
          "name": "stdout",
          "text": [
            "MY NAME IS YAMINI\n",
            "MY NAME IS NAMAN\n"
          ]
        }
      ],
      "source": [
        "def Abc(text):\n",
        "  return text.upper()\n",
        "def diff(text):\n",
        "  return text.lower()\n",
        "\n",
        "print(Abc(\"my name is yamini\"))\n",
        "name=Abc\n",
        "print(name(\"my name is naman\"))"
      ]
    },
    {
      "cell_type": "code",
      "source": [
        "class Employee:\n",
        "  Name=\"Yamini\"\n",
        "  Dept=\"CSE\"\n",
        "  def info(self,city):\n",
        "    print(self.Name, self.Dept, city)\n",
        "    E1=Employee()\n",
        "    E2=Employee()\n",
        "    city=\"lucknow\"\n",
        "    E1.info(city)\n",
        "    E2.info()\n",
        "    Employee()"
      ],
      "metadata": {
        "id": "bPGkpLjX-oeX"
      },
      "execution_count": 9,
      "outputs": []
    },
    {
      "cell_type": "code",
      "source": [
        "#WAP TO USE A CLASS TO CALCULATE AREA AND PERIMETER OF A SQUARE\n",
        "\n",
        "class shape:\n",
        "  def area(self,l):\n",
        "    self.l = l\n",
        "    print(\"the area of square is \",self.l*self.l)\n",
        "  def perimeter(self , b):\n",
        "    self.b = b\n",
        "    print(\"the perimeter of the square is \",4*self.b*self.b)\n",
        "e1 = shape()\n",
        "m = int (input (\"enter the side of the square\"))\n",
        "e1.area(m)\n",
        "e1.perimeter(m)\n"
      ],
      "metadata": {
        "colab": {
          "base_uri": "https://localhost:8080/"
        },
        "id": "zGpzgcXjBbl0",
        "outputId": "8c0d21a8-6d58-4a3b-b49d-8dd7d8c9b911"
      },
      "execution_count": 14,
      "outputs": [
        {
          "output_type": "stream",
          "name": "stdout",
          "text": [
            "enter the side of the square10\n",
            "the area of square is  100\n",
            "the perimeter of the square is  400\n"
          ]
        }
      ]
    },
    {
      "cell_type": "code",
      "source": [
        "#Write a function to write factorial of a number\n",
        "\n",
        "class FactorialCalculator:\n",
        "    def calculate_factorial(self, n):\n",
        "        if n < 0:\n",
        "            return \"Factorial is not defined for negative numbers\"\n",
        "        elif n == 0:\n",
        "            return 1\n",
        "        else:\n",
        "            result = 1\n",
        "            for i in range(1, n + 1):\n",
        "                result *= i\n",
        "            return result\n",
        "\n",
        "\n",
        "calculator = FactorialCalculator()\n",
        "number = int(input(\"enter the number \"))\n",
        "factorial_result = calculator.calculate_factorial(number)\n",
        "print(factorial_result)\n",
        ""
      ],
      "metadata": {
        "colab": {
          "base_uri": "https://localhost:8080/"
        },
        "id": "N8RC_es5Fgfk",
        "outputId": "69e6db84-0fcd-4520-cf60-07ba685448c1"
      },
      "execution_count": 18,
      "outputs": [
        {
          "name": "stdout",
          "output_type": "stream",
          "text": [
            "enter the number5\n"
          ]
        }
      ]
    },
    {
      "cell_type": "code",
      "source": [],
      "metadata": {
        "id": "UFJPo5O_JJVu"
      },
      "execution_count": 19,
      "outputs": []
    }
  ]
}