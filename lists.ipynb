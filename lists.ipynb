{
  "nbformat": 4,
  "nbformat_minor": 0,
  "metadata": {
    "colab": {
      "provenance": [],
      "authorship_tag": "ABX9TyP4votoGkl4uLBijmTkPuSb",
      "include_colab_link": true
    },
    "kernelspec": {
      "name": "python3",
      "display_name": "Python 3"
    },
    "language_info": {
      "name": "python"
    }
  },
  "cells": [
    {
      "cell_type": "markdown",
      "metadata": {
        "id": "view-in-github",
        "colab_type": "text"
      },
      "source": [
        "<a href=\"https://colab.research.google.com/github/Yaminidhimann/Yaminidhimann/blob/main/lists.ipynb\" target=\"_parent\"><img src=\"https://colab.research.google.com/assets/colab-badge.svg\" alt=\"Open In Colab\"/></a>"
      ]
    },
    {
      "cell_type": "code",
      "execution_count": null,
      "metadata": {
        "colab": {
          "base_uri": "https://localhost:8080/"
        },
        "id": "kB5JMh5VllJJ",
        "outputId": "bff3ffb2-6aa3-4e3f-9f0b-74582a41ecaa"
      },
      "outputs": [
        {
          "output_type": "stream",
          "name": "stdout",
          "text": [
            "<class 'list'>\n",
            "['1', '2', 'DRANZER', 'DAISY']\n",
            "1\n",
            "['1', '2', 'DRANZER', 'DAISY', '1', '2', 'DRANZER', 'DAISY']\n",
            "['2', 'DRANZER']\n",
            "['1', '2', 'DRANZER', 'DAISY', '5', '7']\n"
          ]
        }
      ],
      "source": [
        "a=['1','2','DRANZER','DAISY']                     #Whatever you write in s. brackets is considered as list.\n",
        "b=['5','7']\n",
        "print(type(a))\n",
        "print(a)\n",
        "print(a[0])                                      #prints the index 0 of the list.\n",
        "print(a *2)                                      #repeats the list.\n",
        "print(a[1:3])\n",
        "print(a+b)                                      #concanates two lists."
      ]
    },
    {
      "cell_type": "code",
      "source": [
        "names=['YAMINI','NAMAN','NAYAN','ALU']\n",
        "print(names[0])\n",
        "print(names[-3])\n",
        "names[1]= 'NOMON'\n",
        "print(names)\n",
        "\n",
        "print(names[0:3])\n",
        "\n",
        "names.append('DRANZER')\n",
        "print(names)\n",
        "\n",
        "names.insert(0,'ram')\n",
        "print(names)\n",
        "\n",
        "names.remove('YAMINI')\n",
        "print(names)"
      ],
      "metadata": {
        "id": "Cz1Srfquo5CJ",
        "colab": {
          "base_uri": "https://localhost:8080/"
        },
        "outputId": "6d232732-4f80-4c4e-d608-a5b8a858cffb"
      },
      "execution_count": 22,
      "outputs": [
        {
          "output_type": "stream",
          "name": "stdout",
          "text": [
            "YAMINI\n",
            "NAMAN\n",
            "['YAMINI', 'NOMON', 'NAYAN', 'ALU']\n",
            "['YAMINI', 'NOMON', 'NAYAN']\n",
            "['YAMINI', 'NOMON', 'NAYAN', 'ALU', 'DRANZER']\n",
            "['ram', 'YAMINI', 'NOMON', 'NAYAN', 'ALU', 'DRANZER']\n",
            "['ram', 'NOMON', 'NAYAN', 'ALU', 'DRANZER']\n"
          ]
        }
      ]
    },
    {
      "cell_type": "code",
      "source": [
        "print('WELCOME TO PYTHON')\n",
        "print(''' WELCOME TO PYTHON\n",
        "and we will explore collections and functions''')"
      ],
      "metadata": {
        "colab": {
          "base_uri": "https://localhost:8080/"
        },
        "id": "dKieiviluOWP",
        "outputId": "44da0bc4-221b-42f5-8aa7-72d781559b92"
      },
      "execution_count": 23,
      "outputs": [
        {
          "output_type": "stream",
          "name": "stdout",
          "text": [
            "WELCOME TO PYTHON\n",
            " WELCOME TO PYTHON\n",
            "and we will explore collections and functions\n"
          ]
        }
      ]
    },
    {
      "cell_type": "code",
      "source": [
        "num_list=[1,2,3,4,5,'YAMINI IS PERFECT']\n",
        "for i in num_list:\n",
        "   print(i)"
      ],
      "metadata": {
        "colab": {
          "base_uri": "https://localhost:8080/"
        },
        "id": "AScvP1jivVI4",
        "outputId": "ea6d2d58-0efc-40bb-ab5a-9987d3ed3eb0"
      },
      "execution_count": 24,
      "outputs": [
        {
          "output_type": "stream",
          "name": "stdout",
          "text": [
            "1\n",
            "2\n",
            "3\n",
            "4\n",
            "5\n",
            "YAMINI IS PERFECT\n"
          ]
        }
      ]
    }
  ]
}