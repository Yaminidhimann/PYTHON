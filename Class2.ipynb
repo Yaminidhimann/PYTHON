{
  "nbformat": 4,
  "nbformat_minor": 0,
  "metadata": {
    "colab": {
      "provenance": []
    },
    "kernelspec": {
      "name": "python3",
      "display_name": "Python 3"
    },
    "language_info": {
      "name": "python"
    }
  },
  "cells": [
    {
      "cell_type": "code",
      "execution_count": 7,
      "metadata": {
        "colab": {
          "base_uri": "https://localhost:8080/"
        },
        "id": "ZLnQX4OTgIHd",
        "outputId": "c789021a-a2f9-40ac-e380-9fb73677205d"
      },
      "outputs": [
        {
          "output_type": "stream",
          "name": "stdout",
          "text": [
            "all arithemetic operators are\n",
            "enter the first variable\n",
            "7\n",
            "enter the second variale\n",
            "8\n",
            "7.0\n",
            "8.0\n",
            "15.0\n",
            "-1.0\n",
            "56.0\n",
            "7.0\n",
            "0.875\n",
            "0.0\n",
            "all logical operators are\n",
            "False\n",
            "True\n",
            "False\n",
            "use of assignment operator\n",
            "value of b2 10\n",
            "b2+=a2 20\n",
            "b2-=a2 10\n",
            "b2*=a2 100\n",
            "b2<<=a2 102400\n",
            "b2>>=a2 100\n",
            "all comparsion operations are \n",
            "a==b False\n",
            "a!=b True\n",
            "a>=b False\n",
            "a<=b True\n",
            "ab False\n",
            "10 is not divisible by either 3 or 5\n"
          ]
        }
      ],
      "source": [
        "#WRITE A PROGRAM TO CREATE CALCULATOR THAT DOES ALL ARITHEMETIC, LOGICAL AND COMPARISON OPERATOR.\n",
        "\n",
        "#ARITHEMETIC OPERATIONS.\n",
        "print(\"all arithemetic operators are\")\n",
        "num1=input(\"enter the first variable\\n\")\n",
        "num2=input(\"enter the second variale\\n\")\n",
        "a=float(num1)\n",
        "b=float(num2)\n",
        "c=a+b\n",
        "d=a-b\n",
        "e=a*b\n",
        "f=a%b\n",
        "g=a/b\n",
        "h=a//b\n",
        "print(a)\n",
        "print(b)\n",
        "print(c)\n",
        "print(d)\n",
        "print(e)\n",
        "print(f)\n",
        "print(g)\n",
        "print(h)\n",
        "\n",
        "#LOGICAL OPERATIONS\n",
        "print(\"all logical operators are\")\n",
        "a1=True\n",
        "b1=False\n",
        "print(a1 and b1)\n",
        "print(a1 or b1)\n",
        "print(not a1)\n",
        "print('use of assignment operator')\n",
        "a2=10\n",
        "b2=a2\n",
        "print(\"value of b2\",b2)\n",
        "b2+=a2\n",
        "print(\"b2+=a2\",b2)\n",
        "b2-=a2\n",
        "print(\"b2-=a2\",b2)\n",
        "b2*=a2\n",
        "print(\"b2*=a2\",b2)\n",
        "b2<<=a2\n",
        "print(\"b2<<=a2\",b2)\n",
        "b2>>=a2\n",
        "print(\"b2>>=a2\",b2)\n",
        "\n",
        "#COMPARISON OPERATIONS.\n",
        "print(\"all comparsion operations are \")\n",
        "print(\"a==b\",a==b)\n",
        "print(\"a!=b\",a!=b)\n",
        "print(\"a>=b\",a>=b)\n",
        "print(\"a<=b\",a<=b)\n",
        "print(\"ab\",a>b)\n",
        "if not a:\n",
        "    print(\"Boolean value of a is True\")\n",
        "if not (a%3 == 0 or a%5 == 0):\n",
        "    print(\"10 is not divisible by either 3 or 5\")\n",
        "else:\n",
        "    print(\"10 is divisible by either 3 or 5\")\n",
        "    print(\"all logical operations are \")"
      ]
    }
  ]
}