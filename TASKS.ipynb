{
  "nbformat": 4,
  "nbformat_minor": 0,
  "metadata": {
    "colab": {
      "provenance": [],
      "authorship_tag": "ABX9TyMXdEZQ4oGD3/jl7HJf0tjv",
      "include_colab_link": true
    },
    "kernelspec": {
      "name": "python3",
      "display_name": "Python 3"
    },
    "language_info": {
      "name": "python"
    }
  },
  "cells": [
    {
      "cell_type": "markdown",
      "metadata": {
        "id": "view-in-github",
        "colab_type": "text"
      },
      "source": [
        "<a href=\"https://colab.research.google.com/github/Yaminidhimann/Yaminidhimann/blob/main/TASKS.ipynb\" target=\"_parent\"><img src=\"https://colab.research.google.com/assets/colab-badge.svg\" alt=\"Open In Colab\"/></a>"
      ]
    },
    {
      "cell_type": "code",
      "execution_count": 4,
      "metadata": {
        "colab": {
          "base_uri": "https://localhost:8080/"
        },
        "id": "VVQRy84e9iWd",
        "outputId": "d8bfef49-7a2e-4975-e849-7cbbbf3f564a"
      },
      "outputs": [
        {
          "output_type": "stream",
          "name": "stdout",
          "text": [
            "area: 50.24\n",
            "parameter: 25.12\n"
          ]
        }
      ],
      "source": [
        "#TO CREATE A CIRCLE CONSTRUCTOR\n",
        "\n",
        "class Circle:\n",
        "  def __init__(self,radius):\n",
        "    self.radius=radius\n",
        "\n",
        "  def get_area(self):\n",
        "    return 3.14*(self.radius**2)\n",
        "\n",
        "  def get_parameter(self):\n",
        "    return 2*3.14*self.radius\n",
        "\n",
        "radius=4\n",
        "Circle=Circle(radius)\n",
        "print(\"area:\",Circle.get_area())\n",
        "print(\"parameter:\",Circle.get_parameter())\n",
        "\n"
      ]
    },
    {
      "cell_type": "code",
      "source": [
        "import numpy as np\n",
        "import pandas as pd\n",
        "\n",
        "\n",
        "data = {\n",
        "    'sapid': np.random.randint(100000000, 999999999,size=10),\n",
        "    'fname': ['kushagra', 'yamini', 'aaryan', 'YAMINI', 'NADIA', 'vishu', 'lavanya', 'kittu', 'jai', 'kit'],\n",
        "    'lname': ['raghav', 'dhiman', 'khandelwal', 'DHIMAN', 'CUTIE', 'raghav', 'raghav', 'don', 'don', 'kat'],\n",
        "    'subject': ['Math', 'Science', 'English', 'History', 'Geography', 'Art', 'Music', 'Physical Education', 'Computer Science', 'Language'],\n",
        "    'teacher': ['Mr. sajid', 'Mrs. Silky', 'Ms.meha ', 'Mr. manish', 'Mrs. bhavna', 'Mr. bhupendra', 'Ms.tanya', 'Mr. maish', 'Mrs.archana', 'Mr.chahal']\n",
        "}\n",
        "\n",
        "\n",
        "df = pd.DataFrame(data)\n",
        "\n",
        "\n",
        "print(df)"
      ],
      "metadata": {
        "colab": {
          "base_uri": "https://localhost:8080/"
        },
        "id": "hWEgWqBYC-zw",
        "outputId": "454db269-baf9-4dc9-debd-096a100f1577"
      },
      "execution_count": 7,
      "outputs": [
        {
          "output_type": "stream",
          "name": "stdout",
          "text": [
            "       sapid     fname       lname             subject        teacher\n",
            "0  893864477  kushagra      raghav                Math      Mr. sajid\n",
            "1  813911550    yamini      dhiman             Science     Mrs. Silky\n",
            "2  725155768    aaryan  khandelwal             English       Ms.meha \n",
            "3  266778796    YAMINI      DHIMAN             History     Mr. manish\n",
            "4  346787593     NADIA       CUTIE           Geography    Mrs. bhavna\n",
            "5  257289209     vishu      raghav                 Art  Mr. bhupendra\n",
            "6  618457154   lavanya      raghav               Music       Ms.tanya\n",
            "7  402853081     kittu         don  Physical Education      Mr. maish\n",
            "8  157386619       jai         don    Computer Science    Mrs.archana\n",
            "9  883193669       kit         kat            Language      Mr.chahal\n"
          ]
        }
      ]
    }
  ]
}