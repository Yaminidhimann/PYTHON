{
  "nbformat": 4,
  "nbformat_minor": 0,
  "metadata": {
    "colab": {
      "provenance": [],
      "authorship_tag": "ABX9TyNz0Eol6j8HiARPAFE3CNj2",
      "include_colab_link": true
    },
    "kernelspec": {
      "name": "python3",
      "display_name": "Python 3"
    },
    "language_info": {
      "name": "python"
    }
  },
  "cells": [
    {
      "cell_type": "markdown",
      "metadata": {
        "id": "view-in-github",
        "colab_type": "text"
      },
      "source": [
        "<a href=\"https://colab.research.google.com/github/Yaminidhimann/Yaminidhimann/blob/main/func10feb.ipynb\" target=\"_parent\"><img src=\"https://colab.research.google.com/assets/colab-badge.svg\" alt=\"Open In Colab\"/></a>"
      ]
    },
    {
      "cell_type": "code",
      "execution_count": 29,
      "metadata": {
        "colab": {
          "base_uri": "https://localhost:8080/"
        },
        "id": "PaEFtxLEAfqC",
        "outputId": "85e09fb3-0f01-4c1a-bb35-01d75506fdba"
      },
      "outputs": [
        {
          "output_type": "stream",
          "name": "stdout",
          "text": [
            "34\n"
          ]
        }
      ],
      "source": [
        "#FIBONACCI SERIES\n",
        "def fibonacci(n):\n",
        "    a = 0\n",
        "    b = 1\n",
        "\n",
        "    if n < 0:\n",
        "        print(\"Incorrect input\")\n",
        "\n",
        "    elif n == 0:\n",
        "        return 0\n",
        "\n",
        "    elif n == 1:\n",
        "        return b\n",
        "    else:\n",
        "        for i in range(1, n):\n",
        "            c = a + b\n",
        "            a = b\n",
        "            b = c\n",
        "        return b\n",
        "\n",
        "print(fibonacci(9))"
      ]
    },
    {
      "cell_type": "code",
      "source": [
        "#WAP TO CHECK WHETHER THE NO IS EVEN AND PRIME\n",
        "def num_1(n):\n",
        "  num_1=int(input(\"enter the number:\"))\n",
        "  if num_1%2==0:\n",
        "    print(\"the given number is even\")\n",
        "  else:\n",
        "    print(\"the given number is odd\")\n",
        "  if num_1>1:\n",
        "   for i in range(2,int(n/2)+1):\n",
        "      if (num_1%i)==0:\n",
        "          print(\"the given number is prime\")\n",
        "      else:\n",
        "          print(\"the given is not a prime number\")\n",
        "num_1(6)\n"
      ],
      "metadata": {
        "colab": {
          "base_uri": "https://localhost:8080/"
        },
        "id": "Jx1ZGwsBCuqM",
        "outputId": "0dd78d46-3f9d-4a59-d831-2df1e4120f66"
      },
      "execution_count": 25,
      "outputs": [
        {
          "output_type": "stream",
          "name": "stdout",
          "text": [
            "enter the number:2\n",
            "the given number is even\n",
            "the given number is prime\n",
            "the given is not a prime number\n"
          ]
        }
      ]
    },
    {
      "cell_type": "code",
      "source": [
        "#FACTORIAL\n",
        "def fact(n):\n",
        "  if(n==0 or n==1):\n",
        "    return 1\n",
        "\n",
        "  else:\n",
        "    return n*fact(n-1)\n",
        "fact(5)\n"
      ],
      "metadata": {
        "colab": {
          "base_uri": "https://localhost:8080/"
        },
        "id": "nyFH-1lEJ2GK",
        "outputId": "8cd414d9-8ebe-4f25-807f-40ec3b13d776"
      },
      "execution_count": 28,
      "outputs": [
        {
          "output_type": "execute_result",
          "data": {
            "text/plain": [
              "120"
            ]
          },
          "metadata": {},
          "execution_count": 28
        }
      ]
    },
    {
      "cell_type": "code",
      "source": [
        "#LAMBDA FUNCTION\n",
        "sum=lambda num:num+4\n",
        "print(sum(6))"
      ],
      "metadata": {
        "colab": {
          "base_uri": "https://localhost:8080/"
        },
        "id": "Fd3Jqjk4NSOU",
        "outputId": "632316bb-d61f-448d-dd79-9e54886022db"
      },
      "execution_count": 37,
      "outputs": [
        {
          "output_type": "stream",
          "name": "stdout",
          "text": [
            "10\n"
          ]
        }
      ]
    },
    {
      "cell_type": "code",
      "source": [
        "#WAP TO FIND THE SUM OF LIST UsING RECURSION.\n",
        "def recursion(numbers):\n",
        "    if not numbers:\n",
        "        return 0\n",
        "    else:\n",
        "        return numbers[0] + recursion(numbers[1:])\n",
        "elements = [1,12,14,16,9]\n",
        "total_sum =recursion(elements)\n",
        "print(f\"The sum of elements in the list is: {total_sum}\")"
      ],
      "metadata": {
        "colab": {
          "base_uri": "https://localhost:8080/"
        },
        "id": "ocMKhcxHQWO5",
        "outputId": "5ac11f29-d72a-4246-9f96-c7f77c851f91"
      },
      "execution_count": 47,
      "outputs": [
        {
          "output_type": "stream",
          "name": "stdout",
          "text": [
            "The sum of elements in the list is: 52\n"
          ]
        }
      ]
    }
  ]
}