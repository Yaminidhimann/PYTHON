{
  "nbformat": 4,
  "nbformat_minor": 0,
  "metadata": {
    "colab": {
      "provenance": [],
      "authorship_tag": "ABX9TyM3mkMi57WRbWGITcxqz5LS",
      "include_colab_link": true
    },
    "kernelspec": {
      "name": "python3",
      "display_name": "Python 3"
    },
    "language_info": {
      "name": "python"
    }
  },
  "cells": [
    {
      "cell_type": "markdown",
      "metadata": {
        "id": "view-in-github",
        "colab_type": "text"
      },
      "source": [
        "<a href=\"https://colab.research.google.com/github/Yaminidhimann/Yaminidhimann/blob/main/def8feb.ipynb\" target=\"_parent\"><img src=\"https://colab.research.google.com/assets/colab-badge.svg\" alt=\"Open In Colab\"/></a>"
      ]
    },
    {
      "cell_type": "code",
      "execution_count": 1,
      "metadata": {
        "colab": {
          "base_uri": "https://localhost:8080/"
        },
        "id": "apUWfLE2qRlp",
        "outputId": "ced0a65b-faac-47fa-fa00-1e137e767fe4"
      },
      "outputs": [
        {
          "output_type": "stream",
          "name": "stdout",
          "text": [
            "125\n"
          ]
        }
      ],
      "source": [
        "def cube(n):\n",
        "  return n**3\n",
        "\n",
        "result=cube(5)\n",
        "print(result)"
      ]
    },
    {
      "cell_type": "code",
      "source": [
        "def cube(n):\n",
        "  return n**3\n",
        "\n",
        "result=cube\n",
        "print(result(7))"
      ],
      "metadata": {
        "colab": {
          "base_uri": "https://localhost:8080/"
        },
        "id": "0piecVP6sAG-",
        "outputId": "3ec06406-acce-4240-ce5a-b3d72fba61a2"
      },
      "execution_count": 2,
      "outputs": [
        {
          "output_type": "stream",
          "name": "stdout",
          "text": [
            "343\n"
          ]
        }
      ]
    },
    {
      "cell_type": "code",
      "source": [
        "def square(n):\n",
        "  return n**2\n",
        "\n",
        "result=square\n",
        "print(result(6))"
      ],
      "metadata": {
        "colab": {
          "base_uri": "https://localhost:8080/"
        },
        "id": "0njxTcBFsMg8",
        "outputId": "0c951667-f091-4676-fc7b-22b898b7a11d"
      },
      "execution_count": 3,
      "outputs": [
        {
          "output_type": "stream",
          "name": "stdout",
          "text": [
            "36\n"
          ]
        }
      ]
    },
    {
      "cell_type": "code",
      "source": [
        "def square(n):\n",
        "  return n**2\n",
        "\n",
        "def sum(a,b):\n",
        "  square(a)\n",
        "  return a+b\n",
        "\n",
        "result=square\n",
        "print(result(5))\n",
        "summation=sum(5,7)\n",
        "print(summation)\n"
      ],
      "metadata": {
        "colab": {
          "base_uri": "https://localhost:8080/"
        },
        "id": "z1cMaGous1pL",
        "outputId": "64cf5dfc-7aac-4867-f918-530db17d3936"
      },
      "execution_count": 10,
      "outputs": [
        {
          "output_type": "stream",
          "name": "stdout",
          "text": [
            "25\n",
            "12\n"
          ]
        }
      ]
    }
  ]
}