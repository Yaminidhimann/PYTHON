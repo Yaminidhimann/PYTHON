{
  "nbformat": 4,
  "nbformat_minor": 0,
  "metadata": {
    "colab": {
      "provenance": [],
      "toc_visible": true
    },
    "kernelspec": {
      "name": "python3",
      "display_name": "Python 3"
    },
    "language_info": {
      "name": "python"
    }
  },
  "cells": [
    {
      "cell_type": "code",
      "execution_count": 5,
      "metadata": {
        "colab": {
          "base_uri": "https://localhost:8080/"
        },
        "id": "nnqGOLuWQB4W",
        "outputId": "926a6eee-8afa-4de1-a4c1-f997d7501f71"
      },
      "outputs": [
        {
          "output_type": "stream",
          "name": "stdout",
          "text": [
            "hello guys!Are you happy?\n",
            "Are you happy?Are you happy?Are you happy?Are you happy?\n",
            "HELLO GUYS!\n",
            "are you happy?\n",
            "14\n",
            "hello goys!\n",
            "aRE YOU HAPPY?\n",
            "1\n",
            "1\n",
            "Hello Guys!\n",
            "False\n",
            "2\n",
            "<class 'str'>\n",
            "True\n",
            "False\n",
            "False\n",
            "False\n",
            "True\n",
            "what is your roll no ?39\n",
            "39\n",
            "False\n"
          ]
        }
      ],
      "source": [
        "#write a program to perform atleast 20 operations on string.\n",
        "a=\"hello guys!\"\n",
        "b='Are you happy?'\n",
        "print(a+b)\n",
        "print(b*4)\n",
        "print(a.upper())\n",
        "print(b.lower())\n",
        "print(len(b))\n",
        "print(a.replace(\"u\",\"o\"))\n",
        "print(b.swapcase())\n",
        "print(a.count(\"s\"))                   #to count the no. of \"s\" in a.\n",
        "print(b.find(\"r\"))                    #finds the position of \"r\" in b.\n",
        "print(a.title())\n",
        "print(a==b)\n",
        "print(a.index(\"l\"))\n",
        "print(type(a))\n",
        "print('a'in 'apple')\n",
        "print('a'not in 'apple')\n",
        "print(a.isdecimal())          #to check whether a given string is a decimal or not\n",
        "print(a.isalpha())            #to check if a string or a substring is made up of alphabetical characters\n",
        "print(a.isascii())            # to check if a string contains ASCII American Standard Code for Information Interchange characters or not\n",
        "print(int(input(\"what is your roll no ?\")))\n",
        "print(b.isalnum())            #to check if the string contains any alphanumeric characters or not and returns a Boolean value accordingly"
      ]
    }
  ]
}