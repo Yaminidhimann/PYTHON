{
  "nbformat": 4,
  "nbformat_minor": 0,
  "metadata": {
    "colab": {
      "provenance": [],
      "authorship_tag": "ABX9TyOaMZtTvFy9ukdR2JmOTvJs",
      "include_colab_link": true
    },
    "kernelspec": {
      "name": "python3",
      "display_name": "Python 3"
    },
    "language_info": {
      "name": "python"
    }
  },
  "cells": [
    {
      "cell_type": "markdown",
      "metadata": {
        "id": "view-in-github",
        "colab_type": "text"
      },
      "source": [
        "<a href=\"https://colab.research.google.com/github/Yaminidhimann/Yaminidhimann/blob/main/class21march.ipynb\" target=\"_parent\"><img src=\"https://colab.research.google.com/assets/colab-badge.svg\" alt=\"Open In Colab\"/></a>"
      ]
    },
    {
      "cell_type": "code",
      "execution_count": 5,
      "metadata": {
        "colab": {
          "base_uri": "https://localhost:8080/"
        },
        "id": "JhuUm28U9yeQ",
        "outputId": "4fd1d886-f413-4342-9b88-58c3ac99bc73"
      },
      "outputs": [
        {
          "output_type": "stream",
          "name": "stdout",
          "text": [
            "i am in inside the init of class A\n",
            "Inside show of A\n"
          ]
        }
      ],
      "source": [
        "class A:\n",
        "  name=\"yamini\"\n",
        "  SapID=500124307                    #init:\n",
        "  def __init__(self):                #self is a argument here\n",
        "    print(\"i am in inside the init of class A\")\n",
        "\n",
        "  def showA(self):\n",
        "    print(\"Inside show of A\")\n",
        "\n",
        "a1=A()\n",
        "a1.name\n",
        "a1.showA()"
      ]
    },
    {
      "cell_type": "code",
      "source": [
        "class A:                    #init:\n",
        "  def __init__(self, x, y):\n",
        "    self.name=x\n",
        "    self.SapID=y               #self is a argument here\n",
        "    print(\"i am in inside the init of class A\")\n",
        "\n",
        "  def showA(self):\n",
        "    print(\"Inside show of A\")\n",
        "  def attrib(self):\n",
        "    print(self.name, self.SapID)\n",
        "\n",
        "a1=A(\"yamini\",500124307)\n",
        "a1.name\n",
        "a1.showA()\n",
        "a1.attrib()"
      ],
      "metadata": {
        "colab": {
          "base_uri": "https://localhost:8080/"
        },
        "id": "JWowc2WB-zxq",
        "outputId": "e0a2423b-3e74-4527-e016-7099dc4fc93a"
      },
      "execution_count": 6,
      "outputs": [
        {
          "output_type": "stream",
          "name": "stdout",
          "text": [
            "i am in inside the init of class A\n",
            "Inside show of A\n",
            "yamini 500124307\n"
          ]
        }
      ]
    },
    {
      "cell_type": "code",
      "source": [
        "class A:                    #init:\n",
        "  def __init__(self, x, y):\n",
        "    self.name=x\n",
        "    self.SapID=y\n",
        "    self.emp=self.B\n",
        "    print(\"i am in inside the init of class A\")\n",
        "\n",
        "  def showA(self):\n",
        "    print(\"Inside show of A\")\n",
        "  def attrib(self):\n",
        "    print(self.name, self.SapID)\n",
        "\n",
        "  class B:\n",
        "    def __init__(self):\n",
        "      print(\"I am inside an inner class\")\n",
        "    def showB(self):\n",
        "      print(\"i am inside showB\")\n",
        "\n",
        "a1=A(\"yamini\",\"500124307\")\n",
        "a1.name\n",
        "a1.showA()\n",
        "a1.attrib()\n",
        "a1.B()\n"
      ],
      "metadata": {
        "colab": {
          "base_uri": "https://localhost:8080/"
        },
        "id": "A6vEKqIxBxiT",
        "outputId": "2e47051e-a1a8-46b0-db0e-1c730b637877"
      },
      "execution_count": 13,
      "outputs": [
        {
          "output_type": "stream",
          "name": "stdout",
          "text": [
            "i am in inside the init of class A\n",
            "Inside show of A\n",
            "yamini 500124307\n",
            "I am inside an inner class\n"
          ]
        },
        {
          "output_type": "execute_result",
          "data": {
            "text/plain": [
              "<__main__.A.B at 0x7e07ab272710>"
            ]
          },
          "metadata": {},
          "execution_count": 13
        }
      ]
    },
    {
      "cell_type": "code",
      "source": [],
      "metadata": {
        "id": "2p-eAopmEUIP"
      },
      "execution_count": null,
      "outputs": []
    }
  ]
}