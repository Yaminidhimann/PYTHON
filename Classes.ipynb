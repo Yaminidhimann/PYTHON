{
  "nbformat": 4,
  "nbformat_minor": 0,
  "metadata": {
    "colab": {
      "provenance": [],
      "authorship_tag": "ABX9TyNpZ9bJxjR7wBtio0oScpzx",
      "include_colab_link": true
    },
    "kernelspec": {
      "name": "python3",
      "display_name": "Python 3"
    },
    "language_info": {
      "name": "python"
    }
  },
  "cells": [
    {
      "cell_type": "markdown",
      "metadata": {
        "id": "view-in-github",
        "colab_type": "text"
      },
      "source": [
        "<a href=\"https://colab.research.google.com/github/Yaminidhimann/Yaminidhimann/blob/main/Classes.ipynb\" target=\"_parent\"><img src=\"https://colab.research.google.com/assets/colab-badge.svg\" alt=\"Open In Colab\"/></a>"
      ]
    },
    {
      "cell_type": "code",
      "execution_count": 13,
      "metadata": {
        "colab": {
          "base_uri": "https://localhost:8080/"
        },
        "id": "XCBbmh-j2_yd",
        "outputId": "ea184485-a54a-439e-ac88-aec9d100e31a"
      },
      "outputs": [
        {
          "output_type": "stream",
          "name": "stdout",
          "text": [
            "YAMINI 500124 R214\n",
            "PYTHON\n"
          ]
        }
      ],
      "source": [
        "class Employee:\n",
        "  name=\"YAMINI\"\n",
        "  SapID=500124\n",
        "  enroll=\"R214\"\n",
        "  def info(self):\n",
        "    print(self.name, self.SapID, self.enroll)\n",
        "  class course():\n",
        "   def info(self):\n",
        "    print(\"PYTHON\")\n",
        "\n",
        "E1=Employee()\n",
        "E1.info()\n",
        "E2=Employee.course()\n",
        "E2.info()\n"
      ]
    },
    {
      "cell_type": "code",
      "source": [
        "class AssistantProfessor:\n",
        "  def __init__(self,name,Id):\n",
        "    self.name=name\n",
        "    self.Id=Id\n",
        "    self.MD=self.Details()\n",
        "  def show(self):\n",
        "   # print(f\"my name is :{self.name}\")\n",
        "    #print(f\"my id is :{self.Id}\")\n",
        "    print(self.name,self.Id)\n",
        "  class Details:\n",
        "    def show(self):\n",
        "      print(\"hello hello hello\")\n",
        "AP1=AssistantProfessor(\"yamini\", 50012)\n",
        "AP1.show()\n",
        "AP2=AP1.MD\n",
        "AP2.show()"
      ],
      "metadata": {
        "colab": {
          "base_uri": "https://localhost:8080/"
        },
        "id": "GRYCAE8n5cRr",
        "outputId": "7fd36bec-ea60-4ed7-b4fa-970ad6a718ce"
      },
      "execution_count": 23,
      "outputs": [
        {
          "output_type": "stream",
          "name": "stdout",
          "text": [
            "yamini 50012\n",
            "hello hello hello\n"
          ]
        }
      ]
    },
    {
      "cell_type": "code",
      "source": [
        "#INHERITANCE\n",
        "class Parent():\n",
        "  def property(self):\n",
        "   print(\"total cost is 5 crore\")\n",
        "\n",
        "class Son(Parent):\n",
        "  def values(self):\n",
        "   print(\"son has its own property\")\n",
        "\n",
        "class Daughter(Parent):\n",
        "  def values(self):\n",
        "   print(\"daughter is settled in abroad\")\n",
        "\n",
        "s1=Son()\n",
        "s1.values()\n",
        "s1.property()\n",
        "\n",
        "s2=Daughter()\n",
        "s2.property()\n"
      ],
      "metadata": {
        "colab": {
          "base_uri": "https://localhost:8080/"
        },
        "id": "J5PgzA5z-mNH",
        "outputId": "848e3373-1347-408f-fab3-86fbb5869e50"
      },
      "execution_count": 11,
      "outputs": [
        {
          "output_type": "stream",
          "name": "stdout",
          "text": [
            "son has its own property\n",
            "total cost is 5 crore\n",
            "total cost is 5 crore\n"
          ]
        }
      ]
    },
    {
      "cell_type": "code",
      "source": [],
      "metadata": {
        "id": "t9EC5YRdBqZX"
      },
      "execution_count": null,
      "outputs": []
    }
  ]
}