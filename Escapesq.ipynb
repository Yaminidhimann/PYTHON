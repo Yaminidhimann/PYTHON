{
  "nbformat": 4,
  "nbformat_minor": 0,
  "metadata": {
    "colab": {
      "provenance": [],
      "authorship_tag": "ABX9TyMNres+KI25WdcvmaZsl00F",
      "include_colab_link": true
    },
    "kernelspec": {
      "name": "python3",
      "display_name": "Python 3"
    },
    "language_info": {
      "name": "python"
    }
  },
  "cells": [
    {
      "cell_type": "markdown",
      "metadata": {
        "id": "view-in-github",
        "colab_type": "text"
      },
      "source": [
        "<a href=\"https://colab.research.google.com/github/Yaminidhimann/Yaminidhimann/blob/main/Escapesq.ipynb\" target=\"_parent\"><img src=\"https://colab.research.google.com/assets/colab-badge.svg\" alt=\"Open In Colab\"/></a>"
      ]
    },
    {
      "cell_type": "code",
      "execution_count": 6,
      "metadata": {
        "colab": {
          "base_uri": "https://localhost:8080/"
        },
        "id": "IHcgAM9ygDy-",
        "outputId": "1f674649-8cff-4230-8c12-fedcdc9058a5"
      },
      "outputs": [
        {
          "output_type": "stream",
          "name": "stdout",
          "text": [
            "hell0\tworld\n"
          ]
        }
      ],
      "source": [
        "#ESCAPE SEQUENCES.\n",
        "print(\"hell0\\tworld\")"
      ]
    },
    {
      "cell_type": "code",
      "source": [
        "print(\"hello \\a world\")\n",
        "print(\"\\\\\")     #to print only the backslash"
      ],
      "metadata": {
        "colab": {
          "base_uri": "https://localhost:8080/"
        },
        "id": "bJZmBFYMirMX",
        "outputId": "8de46c71-71a2-4d23-cf10-a9763aa55648"
      },
      "execution_count": 13,
      "outputs": [
        {
          "output_type": "stream",
          "name": "stdout",
          "text": [
            "hello \u0007 world\n",
            "\\\n"
          ]
        }
      ]
    },
    {
      "cell_type": "code",
      "source": [
        "print(\"\\x45\")    #to convert the no. to hexadecimal.\n",
        "print(\"\\x78\")"
      ],
      "metadata": {
        "colab": {
          "base_uri": "https://localhost:8080/"
        },
        "id": "-zgMUmdvjD3L",
        "outputId": "c6a0ba08-be6b-4660-8f29-3f2d0a865073"
      },
      "execution_count": 18,
      "outputs": [
        {
          "output_type": "stream",
          "name": "stdout",
          "text": [
            "E\n",
            "x\n"
          ]
        }
      ]
    }
  ]
}