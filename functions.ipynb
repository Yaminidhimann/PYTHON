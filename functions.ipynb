{
  "nbformat": 4,
  "nbformat_minor": 0,
  "metadata": {
    "colab": {
      "provenance": [],
      "authorship_tag": "ABX9TyPqY+LOPJj03TFa9QMH8sAR",
      "include_colab_link": true
    },
    "kernelspec": {
      "name": "python3",
      "display_name": "Python 3"
    },
    "language_info": {
      "name": "python"
    }
  },
  "cells": [
    {
      "cell_type": "markdown",
      "metadata": {
        "id": "view-in-github",
        "colab_type": "text"
      },
      "source": [
        "<a href=\"https://colab.research.google.com/github/Yaminidhimann/Yaminidhimann/blob/main/functions.ipynb\" target=\"_parent\"><img src=\"https://colab.research.google.com/assets/colab-badge.svg\" alt=\"Open In Colab\"/></a>"
      ]
    },
    {
      "cell_type": "code",
      "execution_count": 4,
      "metadata": {
        "colab": {
          "base_uri": "https://localhost:8080/"
        },
        "id": "rPGqmz2DhwDf",
        "outputId": "b783a6a9-8363-45c2-8fe1-2f763dbfa65f"
      },
      "outputs": [
        {
          "output_type": "stream",
          "name": "stdout",
          "text": [
            "start the python\n",
            "welcome to python yamini Dhiman\n",
            "python is multipurpose language\n",
            "you can do anything in datascience using python\n"
          ]
        }
      ],
      "source": [
        "#FUCTIONS\n",
        "def func_1(f_name,l_name):                        #defines the function    #here (name) is parameter.\n",
        "  print(f'welcome to python {f_name} {l_name}')\n",
        "  print('python is multipurpose language')\n",
        "\n",
        "print(\"start the python\")\n",
        "func_1(\"yamini\",\"Dhiman\")                    #yamini is argument\n",
        "print('you can do anything in datascience using python')"
      ]
    },
    {
      "cell_type": "code",
      "source": [
        "def cost_1(mrp, shipping, discount):\n",
        "  selling_price = mrp+shipping-discount\n",
        "  print(selling_price)\n",
        "\n",
        "print(\"total selling price\")\n",
        "cost_1(mrp=5000,discount=100,shipping=200)"
      ],
      "metadata": {
        "id": "VB0VP-pqnMau",
        "outputId": "6ba38226-6000-4d71-d8c8-fc66d1a5bb1f",
        "colab": {
          "base_uri": "https://localhost:8080/"
        }
      },
      "execution_count": 7,
      "outputs": [
        {
          "output_type": "stream",
          "name": "stdout",
          "text": [
            "total selling price\n",
            "5100\n"
          ]
        }
      ]
    },
    {
      "cell_type": "code",
      "source": [
        "#WAP to create the fuction that does the arithmetic operations.\n",
        "def arth_1(a, b):\n",
        " print('a+b=',a+b)\n",
        " print('a-b=',a-b)\n",
        " print('a*b=',a*b)\n",
        " print('a/b=',a/b)\n",
        "\n",
        "arth_1(2,8)            #ARGUMENT\n"
      ],
      "metadata": {
        "id": "c0At-CTHoiiy",
        "outputId": "42c1fb86-4eb1-4006-a609-2dc9302462f2",
        "colab": {
          "base_uri": "https://localhost:8080/"
        }
      },
      "execution_count": 8,
      "outputs": [
        {
          "output_type": "stream",
          "name": "stdout",
          "text": [
            "a+b= 10\n",
            "a-b= -6\n",
            "a*b= 16\n",
            "a/b= 0.25\n"
          ]
        }
      ]
    },
    {
      "cell_type": "code",
      "source": [
        "message = input(\"enter\")\n",
        "words = message.split(' ') #converts input message into list of words\n",
        "#create an emoji dictionery use windows logo key + dot(.) to add emojis\n",
        "emojis = {\n",
        "        \":)\" : \"😄\" ,\n",
        "        \"(:\" : \" 😥\"\n",
        "        }\n",
        "\n",
        "output =''\n",
        "for word in words:\n",
        "    output+=emojis.get(word,word)\n",
        "print(output)\n"
      ],
      "metadata": {
        "id": "scDZcmCzr5Dk",
        "outputId": "5060468d-179f-4045-ed36-fbc331c08e33",
        "colab": {
          "base_uri": "https://localhost:8080/"
        }
      },
      "execution_count": 15,
      "outputs": [
        {
          "output_type": "stream",
          "name": "stdout",
          "text": [
            "entergood morning :)\n",
            "goodmorning😄\n"
          ]
        }
      ]
    },
    {
      "cell_type": "code",
      "source": [
        "#WAP to write fucntion to reverse string without using in built function\n",
        "def reverse(s):\n",
        "  str=''\n",
        "  for i in s:\n",
        "    str=i+str\n",
        "  return str\n",
        "\n",
        "s= input(\"ENTER YOUR NAME\")\n",
        "print(\"the original string is:\")\n",
        "print(s)\n",
        "print(\"the reversed string is:\")\n",
        "print(reverse(s))\n"
      ],
      "metadata": {
        "id": "_Oio3bayvUZn",
        "outputId": "e074af8b-eb4a-4def-e122-639a1519ee39",
        "colab": {
          "base_uri": "https://localhost:8080/"
        }
      },
      "execution_count": 20,
      "outputs": [
        {
          "output_type": "stream",
          "name": "stdout",
          "text": [
            "ENTER YOUR NAME12345\n",
            "the original string is:\n",
            "12345\n",
            "the reversed string is:\n",
            "54321\n"
          ]
        }
      ]
    }
  ]
}