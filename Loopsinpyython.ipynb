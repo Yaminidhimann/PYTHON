{
  "nbformat": 4,
  "nbformat_minor": 0,
  "metadata": {
    "colab": {
      "provenance": [],
      "authorship_tag": "ABX9TyMNdcY2h9rIx4G39MhaR0hA",
      "include_colab_link": true
    },
    "kernelspec": {
      "name": "python3",
      "display_name": "Python 3"
    },
    "language_info": {
      "name": "python"
    }
  },
  "cells": [
    {
      "cell_type": "markdown",
      "metadata": {
        "id": "view-in-github",
        "colab_type": "text"
      },
      "source": [
        "<a href=\"https://colab.research.google.com/github/Yaminidhimann/Yaminidhimann/blob/main/Loopsinpyython.ipynb\" target=\"_parent\"><img src=\"https://colab.research.google.com/assets/colab-badge.svg\" alt=\"Open In Colab\"/></a>"
      ]
    },
    {
      "cell_type": "code",
      "execution_count": 1,
      "metadata": {
        "colab": {
          "base_uri": "https://localhost:8080/"
        },
        "id": "6Y_Edqy4bTGV",
        "outputId": "e923ec89-c454-474f-84b0-8dacd2e89330"
      },
      "outputs": [
        {
          "output_type": "stream",
          "name": "stdout",
          "text": [
            "0\n",
            "1\n",
            "2\n",
            "3\n",
            "4\n",
            "5\n",
            "6\n",
            "7\n",
            "8\n",
            "9\n",
            "10\n"
          ]
        }
      ],
      "source": [
        "#USE OF WHILE LOOP.\n",
        "i=0;\n",
        "while i<=10:\n",
        "  print(i)\n",
        "  i+=1"
      ]
    },
    {
      "cell_type": "code",
      "source": [
        "#USE OF FOR LOOP.\n",
        "for i in 'DRANZER':\n",
        "  print (i)"
      ],
      "metadata": {
        "colab": {
          "base_uri": "https://localhost:8080/"
        },
        "id": "2Tjltznyc0ss",
        "outputId": "2700972e-a791-47a8-ab74-5ee348cdfbe2"
      },
      "execution_count": 5,
      "outputs": [
        {
          "output_type": "stream",
          "name": "stdout",
          "text": [
            "D\n",
            "R\n",
            "A\n",
            "N\n",
            "Z\n",
            "E\n",
            "R\n"
          ]
        }
      ]
    },
    {
      "cell_type": "code",
      "source": [
        "#USE OF RANGE KEYBOARD.\n",
        "for i in range(4,15):\n",
        "  print(i)"
      ],
      "metadata": {
        "colab": {
          "base_uri": "https://localhost:8080/"
        },
        "id": "72cqtxoEd6nK",
        "outputId": "da95883c-fba3-43ba-c873-8a25c14973fc"
      },
      "execution_count": 6,
      "outputs": [
        {
          "output_type": "stream",
          "name": "stdout",
          "text": [
            "4\n",
            "5\n",
            "6\n",
            "7\n",
            "8\n",
            "9\n",
            "10\n",
            "11\n",
            "12\n",
            "13\n",
            "14\n"
          ]
        }
      ]
    },
    {
      "cell_type": "code",
      "source": [
        "#SERIES OF EVEN NUMBER.\n",
        "for i in range(2,20,2):\n",
        "  print(i)"
      ],
      "metadata": {
        "colab": {
          "base_uri": "https://localhost:8080/"
        },
        "id": "oTg4fjuZeU2T",
        "outputId": "5a0a0fc1-716a-467b-c1f6-c8dab59901e1"
      },
      "execution_count": 8,
      "outputs": [
        {
          "output_type": "stream",
          "name": "stdout",
          "text": [
            "2\n",
            "4\n",
            "6\n",
            "8\n",
            "10\n",
            "12\n",
            "14\n",
            "16\n",
            "18\n"
          ]
        }
      ]
    },
    {
      "cell_type": "code",
      "source": [
        "for i in ['DRANZER','IS','PERFECT']:\n",
        "  print(i)"
      ],
      "metadata": {
        "colab": {
          "base_uri": "https://localhost:8080/"
        },
        "id": "uXcwCJpIe5xv",
        "outputId": "81f80545-6353-4e0e-89f6-1a5143186399"
      },
      "execution_count": 9,
      "outputs": [
        {
          "output_type": "stream",
          "name": "stdout",
          "text": [
            "DRANZER\n",
            "IS\n",
            "PERFECT\n"
          ]
        }
      ]
    },
    {
      "cell_type": "code",
      "source": [
        "i=0\n",
        "while i<=5:\n",
        "  print(i*'?')\n",
        "  i+=1\n"
      ],
      "metadata": {
        "colab": {
          "base_uri": "https://localhost:8080/"
        },
        "id": "GcF-3EWGfZq1",
        "outputId": "50a8b663-2f31-4a2a-ded4-c32377dff866"
      },
      "execution_count": 12,
      "outputs": [
        {
          "output_type": "stream",
          "name": "stdout",
          "text": [
            "\n",
            "?\n",
            "??\n",
            "???\n",
            "????\n",
            "?????\n"
          ]
        }
      ]
    },
    {
      "cell_type": "code",
      "source": [
        "a=[1,2]\n",
        "b=[3,4]\n",
        "for i in a:\n",
        "  for j in b:\n",
        "    print('inside the inner loop')\n",
        "    print(i,j)\n",
        "    print('outside the inner loop')"
      ],
      "metadata": {
        "colab": {
          "base_uri": "https://localhost:8080/"
        },
        "id": "5BbQz1Nqgd6X",
        "outputId": "e01fcb64-86d8-4356-b15d-96bc50933df5"
      },
      "execution_count": 17,
      "outputs": [
        {
          "output_type": "stream",
          "name": "stdout",
          "text": [
            "inside the inner loop\n",
            "1 3\n",
            "outside the inner loop\n",
            "inside the inner loop\n",
            "1 4\n",
            "outside the inner loop\n",
            "inside the inner loop\n",
            "2 3\n",
            "outside the inner loop\n",
            "inside the inner loop\n",
            "2 4\n",
            "outside the inner loop\n"
          ]
        }
      ]
    },
    {
      "cell_type": "code",
      "source": [
        "sec_num = 7\n",
        "guess_count = 3\n",
        "while guess_count <=3:\n",
        "  guess = int(input(\"enter the no. to guess\"))\n",
        "  if guess != sec_num:\n",
        "    print('try again')\n",
        "    guess_count += 1\n",
        "  else:\n",
        "    guess == sec_num\n",
        "    print('you won')\n",
        "    break"
      ],
      "metadata": {
        "colab": {
          "base_uri": "https://localhost:8080/"
        },
        "id": "b-J917QFhGvA",
        "outputId": "bd25854d-d924-4979-91a4-af71e48b2e9b"
      },
      "execution_count": 22,
      "outputs": [
        {
          "output_type": "stream",
          "name": "stdout",
          "text": [
            "enter the no. to guess 7\n",
            "you won\n"
          ]
        }
      ]
    },
    {
      "cell_type": "code",
      "source": [
        "#WAP to find factorial of a number\n",
        "num=int(input(\"enter a number\"))\n",
        "factorial = 1\n",
        "if num < 0:\n",
        "   print(\"Sorry, factorial does not exist for negative numbers\")\n",
        "elif num == 0:\n",
        "   print(\"The factorial of 0 is 1\")\n",
        "else:\n",
        "   for i in range(1,num + 1):\n",
        "       factorial = factorial*i\n",
        "   print(\"The factorial of\",num,\"is\",factorial)"
      ],
      "metadata": {
        "colab": {
          "base_uri": "https://localhost:8080/"
        },
        "id": "N1QnxjjYhkOF",
        "outputId": "b34537d8-b878-4322-903e-6f8c9e231a28"
      },
      "execution_count": 23,
      "outputs": [
        {
          "output_type": "stream",
          "name": "stdout",
          "text": [
            "enter a number 10\n",
            "The factorial of 10 is 3628800\n"
          ]
        }
      ]
    }
  ]
}