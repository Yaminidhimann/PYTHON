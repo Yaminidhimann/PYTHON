{
  "nbformat": 4,
  "nbformat_minor": 0,
  "metadata": {
    "colab": {
      "provenance": [],
      "authorship_tag": "ABX9TyMXPEvrtJVZRdoqerzbhC0C",
      "include_colab_link": true
    },
    "kernelspec": {
      "name": "python3",
      "display_name": "Python 3"
    },
    "language_info": {
      "name": "python"
    }
  },
  "cells": [
    {
      "cell_type": "markdown",
      "metadata": {
        "id": "view-in-github",
        "colab_type": "text"
      },
      "source": [
        "<a href=\"https://colab.research.google.com/github/Yaminidhimann/Yaminidhimann/blob/main/functools13feb.ipynb\" target=\"_parent\"><img src=\"https://colab.research.google.com/assets/colab-badge.svg\" alt=\"Open In Colab\"/></a>"
      ]
    },
    {
      "cell_type": "code",
      "execution_count": 5,
      "metadata": {
        "colab": {
          "base_uri": "https://localhost:8080/"
        },
        "id": "3Rtsj1AQmdcH",
        "outputId": "2cdf058d-9829-43fe-f13d-0228088abb03"
      },
      "outputs": [
        {
          "output_type": "stream",
          "name": "stdout",
          "text": [
            "[2, 4, 6, 8]\n",
            "[4, 8, 12, 16]\n",
            "40\n"
          ]
        }
      ],
      "source": [
        "#L AMBDA FUNCTION, to determine even vaues from the list.\n",
        "list_1=[1,2,3,4,5,6,7,8]\n",
        "evens= list(filter(lambda n:n%2==0,list_1))\n",
        "print(evens)\n",
        "\n",
        "#MAP OPERATION\n",
        "operation_1=list(map(lambda n: n*2,evens))\n",
        "print(operation_1)\n",
        "\n",
        "#REDUCE FUNCTION\n",
        "from functools import reduce\n",
        "operation_2= reduce(lambda a,b:a+b,operation_1)\n",
        "print(operation_2)"
      ]
    },
    {
      "cell_type": "code",
      "source": [
        "#WAP TO EXTRACT EVEN AND ODD NUMBER FROM THE LIST\n",
        "#USING LAMBDA\n",
        "Mylist=[1,2,3,4,5,6,7,8,9,10]\n",
        "odd=list(filter(lambda n:n%2!=0,Mylist))\n",
        "print(odd)"
      ],
      "metadata": {
        "colab": {
          "base_uri": "https://localhost:8080/"
        },
        "id": "UcW-HTy8pmVC",
        "outputId": "4f8f62e5-4460-41e6-8ae5-da07f00766ae"
      },
      "execution_count": 7,
      "outputs": [
        {
          "output_type": "stream",
          "name": "stdout",
          "text": [
            "[1, 3, 5, 7, 9]\n"
          ]
        }
      ]
    },
    {
      "cell_type": "code",
      "source": [
        "def count(list_1):\n",
        "  list_1=[1,2,3,4,5,6]\n",
        "  even=0\n",
        "  odd=0\n",
        "  for i in list_1:\n",
        "    if i%2==0:\n",
        "      even=even+1\n",
        "    else:\n",
        "      odd=odd+1\n",
        "  return even,odd\n",
        "even,odd=count(list_1)\n",
        "print(\"even: \",even, \" and odd: \",odd)"
      ],
      "metadata": {
        "colab": {
          "base_uri": "https://localhost:8080/"
        },
        "id": "B-omeSitvHRQ",
        "outputId": "7977a07d-48df-41d1-c75d-1a0090b0fbca"
      },
      "execution_count": 18,
      "outputs": [
        {
          "output_type": "stream",
          "name": "stdout",
          "text": [
            "even:  3  and odd:  3\n"
          ]
        }
      ]
    }
  ]
}