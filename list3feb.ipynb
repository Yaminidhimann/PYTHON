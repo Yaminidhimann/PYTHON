{
  "nbformat": 4,
  "nbformat_minor": 0,
  "metadata": {
    "colab": {
      "provenance": [],
      "authorship_tag": "ABX9TyNEh5Qb7OoRz9kB+g2Gwq0r",
      "include_colab_link": true
    },
    "kernelspec": {
      "name": "python3",
      "display_name": "Python 3"
    },
    "language_info": {
      "name": "python"
    }
  },
  "cells": [
    {
      "cell_type": "markdown",
      "metadata": {
        "id": "view-in-github",
        "colab_type": "text"
      },
      "source": [
        "<a href=\"https://colab.research.google.com/github/Yaminidhimann/Yaminidhimann/blob/main/list3feb.ipynb\" target=\"_parent\"><img src=\"https://colab.research.google.com/assets/colab-badge.svg\" alt=\"Open In Colab\"/></a>"
      ]
    },
    {
      "cell_type": "code",
      "execution_count": 24,
      "metadata": {
        "id": "OntApkk5_f2a",
        "colab": {
          "base_uri": "https://localhost:8080/"
        },
        "outputId": "ac3ee908-1b52-4a0f-cb14-a6a8bf853aa9"
      },
      "outputs": [
        {
          "output_type": "stream",
          "name": "stdout",
          "text": [
            "[2, 3, 5, 7, 11, 13, 17, 19, 23, 29, 31, 37, 41, 43, 47, 53, 59, 61, 67, 71, 73, 79, 83, 89, 97]\n"
          ]
        }
      ],
      "source": [
        "#WRITE A PYTHON PROGRAM TO CREATE A LIST OF PRIME NUMBERS FROM 1 TO 100\n",
        "print([i for i in range(2, 100) if 0 not in [i%n for n in range(2, i)]])\n",
        "\n"
      ]
    },
    {
      "cell_type": "code",
      "source": [
        "#WRITE A PROGRAM TO SWAP FIRST AND LAST ELEMENT OF THE LIST\n",
        "a=[]\n",
        "n= int(input(\"Enter the number of elements in list:\"))\n",
        "for x in range(0,n):\n",
        "    element=int(input(\"Enter element\" + str(x+1) + \":\"))\n",
        "    a.append(element)\n",
        "temp=a[0]\n",
        "a[0]=a[n-1]\n",
        "a[n-1]=temp\n",
        "print(\"New list is:\")\n",
        "print(a)\n"
      ],
      "metadata": {
        "colab": {
          "base_uri": "https://localhost:8080/"
        },
        "id": "_r_gV9O-Fjwo",
        "outputId": "fa632f33-6f1e-45a5-8761-12fc6ac891ad"
      },
      "execution_count": 28,
      "outputs": [
        {
          "output_type": "stream",
          "name": "stdout",
          "text": [
            "Enter the number of elements in list:6\n",
            "Enter element1:5\n",
            "Enter element2:4\n",
            "Enter element3:3\n",
            "Enter element4:2\n",
            "Enter element5:1\n",
            "Enter element6:0\n",
            "New list is:\n",
            "[0, 4, 3, 2, 1, 5]\n"
          ]
        }
      ]
    },
    {
      "cell_type": "code",
      "source": [
        "#WAP TO REMOVE THE DUPLICATES FROM THE LIST AND PRINT IT IN ASCENDING ORDER\n",
        "a=[]\n",
        "n=int(input(\"enter the number of elements in list\"))\n",
        "for x in range(0,n):\n",
        "  element=int(input(\"enter element\" + str(x+1) + \":\"))\n",
        "  a.append(element)\n",
        "print(\"list before swapping \",a)\n",
        "mylist = [ a[i] for i in range(len(a)) if a.index(a[i]) == i]\n",
        "print(\"list after removing elements \",mylist)\n",
        "mylist.sort();\n",
        "print(\"final list is\",mylist)"
      ],
      "metadata": {
        "colab": {
          "base_uri": "https://localhost:8080/"
        },
        "id": "XMLoejXYHqhq",
        "outputId": "71262fbd-c8f4-4775-83c3-7a2e5a30f97c"
      },
      "execution_count": 32,
      "outputs": [
        {
          "output_type": "stream",
          "name": "stdout",
          "text": [
            "enter the number of elements in list5\n",
            "enter element1:5\n",
            "enter element2:4\n",
            "enter element3:3\n",
            "enter element4:2\n",
            "enter element5:1\n",
            "list before swapping  [5, 4, 3, 2, 1]\n",
            "list after removing elements  [5, 4, 3, 2, 1]\n",
            "final list is [1, 2, 3, 4, 5]\n"
          ]
        }
      ]
    },
    {
      "cell_type": "code",
      "source": [
        "#WAP TO REMOVE THE DUPLICATES FROM THE LIST AND PRINT IT IN ASCENDING ORDER\n",
        "l1=[5,2,2,2,3,4,3,5,4,2,3,6,7,5,6,7]\n",
        "a=[]\n",
        "for i in l1:\n",
        "    if i not in a:\n",
        "        a.append(i)\n",
        "        a.sort()\n",
        "print(l1)\n",
        "print(a)"
      ],
      "metadata": {
        "colab": {
          "base_uri": "https://localhost:8080/"
        },
        "id": "mVrcpJVqNyeu",
        "outputId": "d0bfd8e6-a167-4b84-cac8-9c0b4cad04ea"
      },
      "execution_count": 33,
      "outputs": [
        {
          "output_type": "stream",
          "name": "stdout",
          "text": [
            "[5, 2, 2, 2, 3, 4, 3, 5, 4, 2, 3, 6, 7, 5, 6, 7]\n",
            "[2, 3, 4, 5, 6, 7]\n"
          ]
        }
      ]
    }
  ]
}