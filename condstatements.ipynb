{
  "nbformat": 4,
  "nbformat_minor": 0,
  "metadata": {
    "colab": {
      "provenance": [],
      "authorship_tag": "ABX9TyMIYqKPpmDd7WxLR/OJD4Nv",
      "include_colab_link": true
    },
    "kernelspec": {
      "name": "python3",
      "display_name": "Python 3"
    },
    "language_info": {
      "name": "python"
    }
  },
  "cells": [
    {
      "cell_type": "markdown",
      "metadata": {
        "id": "view-in-github",
        "colab_type": "text"
      },
      "source": [
        "<a href=\"https://colab.research.google.com/github/Yaminidhimann/Yaminidhimann/blob/main/condstatements.ipynb\" target=\"_parent\"><img src=\"https://colab.research.google.com/assets/colab-badge.svg\" alt=\"Open In Colab\"/></a>"
      ]
    },
    {
      "cell_type": "code",
      "execution_count": 1,
      "metadata": {
        "colab": {
          "base_uri": "https://localhost:8080/"
        },
        "id": "dCMO83LLkPAh",
        "outputId": "2135cd53-7bf2-4f9d-a86e-44076981a8e2"
      },
      "outputs": [
        {
          "output_type": "stream",
          "name": "stdout",
          "text": [
            "66.875\n",
            "78.125\n"
          ]
        }
      ],
      "source": [
        "#USE OF OPERATORS\n",
        "a=20+30*50/2**5\n",
        "b=(20+30)*(50/(2**5))\n",
        "print(a)\n",
        "print(b)\n",
        "\n"
      ]
    },
    {
      "cell_type": "code",
      "source": [
        "#CONDITIONAL STATEMENTS\n",
        "temp=int(input(\"Enter the temperature \"))\n",
        "if (temp>=15 and temp<=30):\n",
        "  print(\"THE TEMPERATURE IS MODERATE TODAY\")\n",
        "elif (temp>30 and temp<=35):\n",
        "  print(\"IT IS HOT TODAY\")\n",
        "  print(\"STAY HYDRATED\")\n",
        "elif (temp>35):\n",
        "  print(\"STAY HOME\")\n",
        "else:\n",
        "  print(\"ITS COLD OUTSIDE\")\n",
        "  print(\"HAVE TEA\")\n"
      ],
      "metadata": {
        "colab": {
          "base_uri": "https://localhost:8080/"
        },
        "id": "xbQZlDZ8pCe2",
        "outputId": "17146121-e94f-48ed-a684-0ed33f51e0ae"
      },
      "execution_count": 20,
      "outputs": [
        {
          "output_type": "stream",
          "name": "stdout",
          "text": [
            "Enter the temperature 3\n",
            "ITS COLD OUTSIDE\n",
            "HAVE TEA\n"
          ]
        }
      ]
    },
    {
      "cell_type": "code",
      "source": [
        "#WRITE A CODE FOR THE WEIGHT CONVERSION\n",
        "weight = float(input(\"weight\"))\n",
        "unit = input(\"(K)g or (L)bs:\")\n",
        "if unit == \"K\":\n",
        "  converted = weight / 0.45\n",
        "  print(\"weight in Lbs:\" + str(converted))\n",
        "else:\n",
        "  converted = weight * 0.45\n",
        "  print(\"weight in Lbs:\" + str(converted))\n",
        "\n",
        "\n"
      ],
      "metadata": {
        "colab": {
          "base_uri": "https://localhost:8080/"
        },
        "id": "WXHNjx1uuiSJ",
        "outputId": "9a6ccaf0-4ba3-44d0-d351-5529b3a34f12"
      },
      "execution_count": 1,
      "outputs": [
        {
          "output_type": "stream",
          "name": "stdout",
          "text": [
            "weight20\n",
            "(K)g or (L)bs:10\n",
            "weight in Lbs:9.0\n"
          ]
        }
      ]
    },
    {
      "cell_type": "code",
      "source": [
        "#WRITE A CODE FOR CAR AUTOMATION\n",
        "command = \"\"\n",
        "while command.lower() != \"quit\":\n",
        "  command = input(\" > \")\n",
        "  if command.lower() == \"start\":\n",
        "\n",
        "     print(\"Car Started....\")\n",
        "  elif command.lower() == \"stop\":\n",
        "    print(\"Car Stopped\")\n",
        "  elif command.lower() == \"help\":\n",
        "    print(\"\"\"\n",
        "    start - to start the car\n",
        "    stop - to stop the car\n",
        "    quit - to quit\n",
        "    \"\"\")\n",
        "  elif command.lower() == \"quit\":\n",
        "    break\n",
        "  else:\n",
        "    print(\"sorry, I don't understand the command\")\n"
      ],
      "metadata": {
        "colab": {
          "base_uri": "https://localhost:8080/"
        },
        "id": "7iw5Im77OekI",
        "outputId": "1276d9b9-be6a-498e-bcb2-d35d50907e51"
      },
      "execution_count": 4,
      "outputs": [
        {
          "name": "stdout",
          "output_type": "stream",
          "text": [
            " > HJJSS\n",
            "sorry, I don't understand the command\n",
            " > STOP\n",
            "Car Stopped\n",
            " > START\n",
            "Car Started....\n",
            " > HEPP\n",
            "sorry, I don't understand the command\n",
            " > HELP\n",
            "\n",
            "    start - to start the car\n",
            "    stop - to stop the car\n",
            "    quit - to quit\n",
            "    \n",
            " > STOP\n",
            "Car Stopped\n",
            " > START\n",
            "Car Started....\n",
            " > QUIT\n"
          ]
        }
      ]
    }
  ]
}